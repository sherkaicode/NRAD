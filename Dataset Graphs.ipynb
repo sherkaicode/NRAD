{
 "cells": [
  {
   "cell_type": "code",
   "execution_count": 1,
   "id": "128e7516",
   "metadata": {},
   "outputs": [
    {
     "name": "stderr",
     "output_type": "stream",
     "text": [
      "/home/aegis/.local/lib/python3.10/site-packages/matplotlib/projections/__init__.py:63: UserWarning: Unable to import Axes3D. This may be due to multiple versions of Matplotlib being installed (e.g. as a system package and as a pip package). As a result, the 3D projection is not available.\n",
      "  warnings.warn(\"Unable to import Axes3D. This may be due to multiple versions of \"\n"
     ]
    }
   ],
   "source": [
    "import numpy as np\n",
    "import matplotlib.pyplot as plt\n",
    "import os"
   ]
  },
  {
   "cell_type": "code",
   "execution_count": 2,
   "id": "9139b6c1",
   "metadata": {},
   "outputs": [],
   "source": [
    "n_bins = 40\n",
    "sample_size = 1\n",
    "\n",
    "signal_sample_paths = {\"SVJL\":\"SVJL.root.txt\",\n",
    "                      \"QCD\":\"multijet_processed.txt\",\n",
    "                      \"QCD_final\":\"QCD_bkg.root.txt\",\n",
    "                      \"QCD_nMax2\":\"QCD_nMax2.root.txt\"}\n",
    "\n",
    "# bkg_dir = \"samples/qcd_data_samples/\"\n",
    "bkg_dir = \"/home/aegis/Artemis/NRAD/working_dir/samples/qcd_mc_samples/\"\n",
    "mc_dir = \"/home/aegis/Artemis/NRAD/working_dir/samples/qcd_test_samples/\"\n"
   ]
  },
  {
   "cell_type": "code",
   "execution_count": 3,
   "id": "3b80129d",
   "metadata": {},
   "outputs": [],
   "source": [
    "var_names = [\"ht\", \"met\", \"m_jj\", \"tau21_j1\", \"tau21_j2\", \"tau32_j1\", \"tau32_j2\"]\n",
    "\n",
    "def name_map():\n",
    "    return {\n",
    "        \"m_jj\": \"$m_{{\\\\rm jj}}$\",\n",
    "        \"met\": \"MET\",\n",
    "        \"ht\": \"$H_{{\\\\rm T}}$\",\n",
    "        \"pT_j1\": \"Leading jet $p_{{\\\\rm T}}$\",\n",
    "        \"pT_j2\": \"Sub-leading jet $p_{{\\\\rm T}}$\",\n",
    "        \"tau21_j1\": \"Leading jet $\\\\tau_2/\\\\tau_1$\",\n",
    "        \"tau21_j2\": \"Sub-leading jet $\\\\tau_2/\\\\tau_1$\",\n",
    "        \"tau32_j1\": \"Leading jet $\\\\tau_3/\\\\tau_2$\",\n",
    "        \"tau32_j2\": \"Sub-leading jet $\\\\tau_3/\\\\tau_2$\",\n",
    "        \"min_dPhi\": \"min$\\\\Delta\\\\phi(\\\\rm j_i, \\\\rm MET)$\",\n",
    "    }\n",
    "\n",
    "def unit_map():\n",
    "    return {\n",
    "        \"m_jj\": \"(GeV)\",\n",
    "        \"met\": \"(GeV)\",\n",
    "        \"ht\": \"(GeV)\",\n",
    "        \"pT_j1\": \"(GeV)\",\n",
    "        \"pT_j2\": \"(GeV)\",\n",
    "        \"tau21_j1\": \"\",\n",
    "        \"tau21_j2\": \"\",\n",
    "        \"tau32_j1\": \"\",\n",
    "        \"tau32_j2\": \"\",\n",
    "        \"min_dPhi\": \"\",\n",
    "    }\n",
    "\n",
    "\n",
    "names = name_map()\n",
    "units = unit_map()\n",
    "\n",
    "bins_list = []\n",
    "xlabel_list = []\n",
    "\n",
    "\n",
    "for x in var_names:\n",
    "    xlabel_list.append(f\"{names[x]} {units[x]}\")\n",
    "    if \"tau\" in x:\n",
    "        bins = np.linspace(0, 1, n_bins)\n",
    "    elif x==\"met\":\n",
    "        bins = np.linspace(0, 600, n_bins)\n",
    "    elif x==\"ht\":\n",
    "        bins = np.linspace(0, 4000, n_bins)\n",
    "    elif x==\"m_jj\":\n",
    "        bins = np.linspace(0, 4000, n_bins)\n",
    "    bins_list.append(bins)\n",
    "\n",
    "\n",
    "def load_samples(file):\n",
    "    samples = np.loadtxt(file, dtype=str)\n",
    "    # Get the names of all varibles\n",
    "    variables = samples[0]\n",
    "    # Get the events ordered by varibles\n",
    "    events = np.asfarray(samples[1:])\n",
    "    return variables, events\n",
    "\n",
    "\n",
    "def sort_event_arr(names, variables, events):\n",
    "    event_list = []\n",
    "    for x in names:   \n",
    "        ind_x = ind(variables, x)\n",
    "        event_list.append(events[:, ind_x])\n",
    "    return np.stack(event_list, axis=1)\n",
    "\n",
    "\n",
    "def get_quality_events(arr):\n",
    "    if np.isnan(arr).any():\n",
    "        return arr[~np.isnan(arr).any(axis=1)]\n",
    "    else:\n",
    "        return arr\n",
    "    \n",
    "def ind(variables, name):\n",
    "    return np.where(variables == name)[0][0]"
   ]
  },
  {
   "cell_type": "code",
   "execution_count": 4,
   "id": "1611911a",
   "metadata": {},
   "outputs": [],
   "source": [
    "HT_cut = 800    # In SR, HT > 800 GeV\n",
    "MET_cut = 75\n",
    "    \n",
    "    \n",
    "def plot_all_variables_appx(sig_list, bkg_list, mc_list, xlabels, bins_list=[], labels=[\"sig\", \"bkg\"], \n",
    "                       name=\"sig_vs_bkg\", title=\"\", xlabel=\"x\", outdir=\"./\", \n",
    "                       plot_context_bounds = False, *args, **kwargs):\n",
    "    csig1 = 'coral'\n",
    "    csig2 = 'darkred'\n",
    "    csig3 = 'goldenrod'\n",
    "    cbkg = 'lightblue'\n",
    "    cmc = 'green'\n",
    "    sig_color = [csig1, csig2, csig3]\n",
    "\n",
    "    N = 7\n",
    "    \n",
    "    if N==len(xlabels):\n",
    "        fig, ax1 = plt.subplots(1, N, figsize=(5*N,5))\n",
    "        ax1[0].set_ylabel(\"a.u.\", fontsize = 24)\n",
    "        \n",
    "        for i in range(N):\n",
    "           \n",
    "            bins = bins_list[i]\n",
    "            for n in range(len(sig_list)):\n",
    "                ax1[i].hist(sig_list[n][i], bins = bins, density = True, histtype='step', ls= \"-\", color=sig_color[n], label=labels[n], lw=2)\n",
    "            ax1[i].hist(bkg_list[i], bins = bins, density = True, histtype='stepfilled', ls= \"-\", color=cbkg, alpha=1, label=labels[-2])\n",
    "            ax1[i].hist(mc_list[i], bins = bins, density = True, histtype='step', ls= \"-\", color=cmc, alpha=1, label=labels[-1], lw = 2)\n",
    "            ax1[i].set_xlabel(xlabels[i], fontsize = 24)\n",
    "            ax1[i].set_yticks([])\n",
    "    \n",
    "        if plot_context_bounds:\n",
    "            ax1[0].axvline(HT_cut, color = \"k\", linestyle = \"dashed\", label=\"SR cuts\")\n",
    "            ax1[1].axvline(MET_cut, color = \"k\", linestyle = \"dashed\")\n",
    "    \n",
    "        ax1[0].legend(fontsize = 16, frameon = False)\n",
    "        plt.subplots_adjust(wspace=.0, hspace=0)\n",
    "#         plot_name = f\"{outdir}/{name}_allsig.pdf\"\n",
    "#         plt.savefig(plot_name.replace(\" \", \"_\"))\n",
    "        plt.show()\n",
    "    else:\n",
    "        print(\"Wrong input lists!\")"
   ]
  },
  {
   "cell_type": "markdown",
   "id": "ee5d4f58",
   "metadata": {},
   "source": [
    "### Load Data"
   ]
  },
  {
   "cell_type": "code",
   "execution_count": 5,
   "id": "99e6f7ea",
   "metadata": {},
   "outputs": [
    {
     "name": "stdout",
     "output_type": "stream",
     "text": [
      "dict_keys(['SVJL', 'QCD', 'QCD_final', 'QCD_nMax2'])\n"
     ]
    }
   ],
   "source": [
    "sig_events = {}\n",
    "\n",
    "for sig_id in signal_sample_paths.keys():\n",
    "\n",
    "    variables, loc_sig = load_samples(signal_sample_paths[sig_id])\n",
    "    loc_sig = get_quality_events(loc_sig)\n",
    "    sig_events[sig_id] = sort_event_arr(var_names, variables, loc_sig)\n",
    "    \n",
    "print(sig_events.keys())"
   ]
  },
  {
   "cell_type": "code",
   "execution_count": 6,
   "id": "ee748dbb",
   "metadata": {},
   "outputs": [
    {
     "name": "stdout",
     "output_type": "stream",
     "text": [
      "Loading 1 samples...\n",
      "(504751, 7)\n"
     ]
    }
   ],
   "source": [
    "bkg_events_list = []\n",
    "mc_events_list = []\n",
    "\n",
    "print(f\"Loading {sample_size} samples...\")\n",
    "\n",
    "for i in range(sample_size):\n",
    "\n",
    "    bkg_path = f\"{bkg_dir}/qcd_{i}.txt\"\n",
    "    if os.path.isfile(bkg_path):\n",
    "        # Load input events ordered by varibles\n",
    "        _, bkg_i = load_samples(bkg_path)\n",
    "        bkg_i = get_quality_events(bkg_i)\n",
    "        bkg_events_list.append(sort_event_arr(var_names, variables, bkg_i))\n",
    "\n",
    "        \n",
    "    mc_path = f\"{mc_dir}/qcd_{i}.txt\"\n",
    "    if os.path.isfile(mc_path):\n",
    "        # Load input events ordered by varibles\n",
    "        _, mc_i = load_samples(mc_path)\n",
    "        mc_i = get_quality_events(mc_i)\n",
    "        mc_events_list.append(sort_event_arr(var_names, variables,mc_i))\n",
    "\n",
    "        \n",
    "if len(bkg_events_list)==0:\n",
    "    print(\"No files loaded.\")\n",
    "print(bkg_events_list[0].shape)"
   ]
  },
  {
   "cell_type": "code",
   "execution_count": 7,
   "id": "fba3da7c",
   "metadata": {},
   "outputs": [
    {
     "name": "stdout",
     "output_type": "stream",
     "text": [
      "504751\n",
      "14733\n"
     ]
    }
   ],
   "source": [
    "bkg_events = np.concatenate(bkg_events_list)\n",
    "# mc_events = np.concatenate(mc_events_list)\n",
    "mc_events = sig_events['QCD_final']\n",
    "\n",
    "print(len(bkg_events))\n",
    "print(len(mc_events))"
   ]
  },
  {
   "cell_type": "markdown",
   "id": "2520a076",
   "metadata": {},
   "source": [
    "### Plot"
   ]
  },
  {
   "cell_type": "code",
   "execution_count": 9,
   "id": "da91b3e5",
   "metadata": {},
   "outputs": [
    {
     "name": "stdout",
     "output_type": "stream",
     "text": [
      "3\n"
     ]
    },
    {
     "data": {
      "image/png": "[encoded data removed]",
      "text/plain": [
       "<Figure size 2520x360 with 7 Axes>"
      ]
     },
     "metadata": {
      "needs_background": "light"
     },
     "output_type": "display_data"
    }
   ],
   "source": [
    "\n",
    "sig_id_to_plot = ['SVJL']\n",
    "sig_list = []\n",
    "sig_labels = []\n",
    "for sig_id in sig_id_to_plot:\n",
    "    sig_list.append(sig_events[sig_id].T)\n",
    "    sig_labels.append(sig_id)\n",
    "    \n",
    "bkg_list = bkg_events.T\n",
    "mc_list = mc_events.T\n",
    "xlabels = xlabel_list\n",
    "bins = bins_list\n",
    "labels= sig_labels + [\"QCD dijet (bkg)\", \"QCD dijet (mc)\"]\n",
    "print(len(labels))\n",
    "# Signal vs background\n",
    "plot_kwargs = {\"bins_list\":bins, \"name\":f\"sig_vs_bkg_feat_morphmc\", \"labels\":labels, \"title\":\"Signal vs background in SR\"}\n",
    "plot_all_variables_appx(sig_list, bkg_list, mc_list, xlabels, **plot_kwargs)"
   ]
  }
 ],
 "metadata": {
  "kernelspec": {
   "display_name": "Python 3 (ipykernel)",
   "language": "python",
   "name": "python3"
  },
  "language_info": {
   "codemirror_mode": {
    "name": "ipython",
    "version": 3
   },
   "file_extension": ".py",
   "mimetype": "text/x-python",
   "name": "python",
   "nbconvert_exporter": "python",
   "pygments_lexer": "ipython3",
   "version": "3.10.12"
  }
 },
 "nbformat": 4,
 "nbformat_minor": 5
}
